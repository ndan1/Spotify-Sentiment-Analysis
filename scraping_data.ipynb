{
 "cells": [
  {
   "cell_type": "markdown",
   "metadata": {
    "id": "IhXyyhFgQ23l"
   },
   "source": [
    "scraping data ulasan aplikasi google play store"
   ]
  },
  {
   "cell_type": "code",
   "execution_count": 45,
   "metadata": {
    "colab": {
     "base_uri": "https://localhost:8080/"
    },
    "id": "W0p-iEIQQyYF",
    "outputId": "032d000a-9f43-4b82-f4e0-d36d38c26f22"
   },
   "outputs": [
    {
     "name": "stdout",
     "output_type": "stream",
     "text": [
      "Requirement already satisfied: google-play-scraper in c:\\users\\lindan\\anaconda3\\lib\\site-packages (1.2.7)\n"
     ]
    },
    {
     "name": "stderr",
     "output_type": "stream",
     "text": [
      "\n",
      "[notice] A new release of pip is available: 24.2 -> 24.3.1\n",
      "[notice] To update, run: python.exe -m pip install --upgrade pip\n"
     ]
    }
   ],
   "source": [
    "#Referensi: https://www.linkedin.com/pulse/how-scrape-google-play-reviews-4-simple-steps-using-python-kundi/\n",
    "#download library google-play-scraper\n",
    "!pip install google-play-scraper"
   ]
  },
  {
   "cell_type": "markdown",
   "metadata": {
    "id": "fWP2MFAeRN3h"
   },
   "source": [
    "Impor paket yang diperlukan"
   ]
  },
  {
   "cell_type": "code",
   "execution_count": 46,
   "metadata": {
    "id": "G6DeGguKRKBv"
   },
   "outputs": [],
   "source": [
    "from google_play_scraper import app\n",
    "\n",
    "import pandas as pd\n",
    "\n",
    "import numpy as np"
   ]
  },
  {
   "cell_type": "code",
   "execution_count": 47,
   "metadata": {
    "id": "zzPVLZKcRSQR"
   },
   "outputs": [],
   "source": [
    "#scrape jumlah ulasan yang diinginkan\n",
    "from google_play_scraper import Sort, reviews\n",
    "\n",
    "result, continuation_token = reviews(\n",
    "    'com.spotify.music',\n",
    "    lang='en',  #disini kita mau men scrape data ulasan aplikasi shopee yang berada di google play store\n",
    "    country='id', #kita setting bahasa nya menjadi bahasa indonesia\n",
    "    sort=Sort.MOST_RELEVANT, # # kemudian kita gunakan most_relevan untuk mendapatkan ulasan yang paling relevant\n",
    "    count=20000, # disini jumlah ulasan yang mau kita ambil ada seribu\n",
    "    filter_score_with=None # # kemudian di filter_score kita gunakan None untuk mengambil semua score atau ratting bintang 1 sampai 5\n",
    ")"
   ]
  },
  {
   "cell_type": "code",
   "execution_count": 48,
   "metadata": {
    "colab": {
     "base_uri": "https://localhost:8080/",
     "height": 389
    },
    "id": "uavatGaKRXTB",
    "outputId": "3c84ea11-33d3-437a-da79-32c1b04037bc"
   },
   "outputs": [
    {
     "data": {
      "text/html": [
       "<div>\n",
       "<style scoped>\n",
       "    .dataframe tbody tr th:only-of-type {\n",
       "        vertical-align: middle;\n",
       "    }\n",
       "\n",
       "    .dataframe tbody tr th {\n",
       "        vertical-align: top;\n",
       "    }\n",
       "\n",
       "    .dataframe thead th {\n",
       "        text-align: right;\n",
       "    }\n",
       "</style>\n",
       "<table border=\"1\" class=\"dataframe\">\n",
       "  <thead>\n",
       "    <tr style=\"text-align: right;\">\n",
       "      <th></th>\n",
       "      <th>reviewId</th>\n",
       "      <th>userName</th>\n",
       "      <th>userImage</th>\n",
       "      <th>content</th>\n",
       "      <th>score</th>\n",
       "      <th>thumbsUpCount</th>\n",
       "      <th>reviewCreatedVersion</th>\n",
       "      <th>at</th>\n",
       "      <th>replyContent</th>\n",
       "      <th>repliedAt</th>\n",
       "      <th>appVersion</th>\n",
       "    </tr>\n",
       "  </thead>\n",
       "  <tbody>\n",
       "    <tr>\n",
       "      <th>0</th>\n",
       "      <td>1fdf522e-7040-4f3b-a821-3b9aade9f41c</td>\n",
       "      <td>A Google user</td>\n",
       "      <td>https://play-lh.googleusercontent.com/EGemoI2N...</td>\n",
       "      <td>Spotify is the best app for listening to music...</td>\n",
       "      <td>4</td>\n",
       "      <td>7</td>\n",
       "      <td>8.9.78.513</td>\n",
       "      <td>2024-10-05 17:26:29</td>\n",
       "      <td>None</td>\n",
       "      <td>NaT</td>\n",
       "      <td>8.9.78.513</td>\n",
       "    </tr>\n",
       "    <tr>\n",
       "      <th>1</th>\n",
       "      <td>0f1cf65c-3edb-4b1f-8224-7aac26633f2b</td>\n",
       "      <td>A Google user</td>\n",
       "      <td>https://play-lh.googleusercontent.com/EGemoI2N...</td>\n",
       "      <td>-At random, the app will turn on smart shuffle...</td>\n",
       "      <td>2</td>\n",
       "      <td>22</td>\n",
       "      <td>8.9.70.556</td>\n",
       "      <td>2024-09-05 19:18:13</td>\n",
       "      <td>None</td>\n",
       "      <td>NaT</td>\n",
       "      <td>8.9.70.556</td>\n",
       "    </tr>\n",
       "    <tr>\n",
       "      <th>2</th>\n",
       "      <td>6c46e551-db72-4bc3-9df7-58ad7488f343</td>\n",
       "      <td>A Google user</td>\n",
       "      <td>https://play-lh.googleusercontent.com/EGemoI2N...</td>\n",
       "      <td>One of the worst monetization design ever, can...</td>\n",
       "      <td>1</td>\n",
       "      <td>87</td>\n",
       "      <td>8.9.80.581</td>\n",
       "      <td>2024-10-13 09:05:25</td>\n",
       "      <td>None</td>\n",
       "      <td>NaT</td>\n",
       "      <td>8.9.80.581</td>\n",
       "    </tr>\n",
       "    <tr>\n",
       "      <th>3</th>\n",
       "      <td>660ce2cc-c0f8-4494-8cc9-224e2526873e</td>\n",
       "      <td>A Google user</td>\n",
       "      <td>https://play-lh.googleusercontent.com/EGemoI2N...</td>\n",
       "      <td>This app is actually has good selection of mus...</td>\n",
       "      <td>2</td>\n",
       "      <td>5</td>\n",
       "      <td>8.9.70.556</td>\n",
       "      <td>2024-09-06 22:22:33</td>\n",
       "      <td>Hey there! We suggest reaching out to our Cust...</td>\n",
       "      <td>2024-09-07 00:05:02</td>\n",
       "      <td>8.9.70.556</td>\n",
       "    </tr>\n",
       "    <tr>\n",
       "      <th>4</th>\n",
       "      <td>0532baf9-3853-4f63-badb-53b562a6aa79</td>\n",
       "      <td>A Google user</td>\n",
       "      <td>https://play-lh.googleusercontent.com/EGemoI2N...</td>\n",
       "      <td>I set my alarm to my playlist so i can listen ...</td>\n",
       "      <td>1</td>\n",
       "      <td>7</td>\n",
       "      <td>8.9.84.594</td>\n",
       "      <td>2024-10-21 22:27:58</td>\n",
       "      <td>None</td>\n",
       "      <td>NaT</td>\n",
       "      <td>8.9.84.594</td>\n",
       "    </tr>\n",
       "  </tbody>\n",
       "</table>\n",
       "</div>"
      ],
      "text/plain": [
       "                               reviewId       userName  \\\n",
       "0  1fdf522e-7040-4f3b-a821-3b9aade9f41c  A Google user   \n",
       "1  0f1cf65c-3edb-4b1f-8224-7aac26633f2b  A Google user   \n",
       "2  6c46e551-db72-4bc3-9df7-58ad7488f343  A Google user   \n",
       "3  660ce2cc-c0f8-4494-8cc9-224e2526873e  A Google user   \n",
       "4  0532baf9-3853-4f63-badb-53b562a6aa79  A Google user   \n",
       "\n",
       "                                           userImage  \\\n",
       "0  https://play-lh.googleusercontent.com/EGemoI2N...   \n",
       "1  https://play-lh.googleusercontent.com/EGemoI2N...   \n",
       "2  https://play-lh.googleusercontent.com/EGemoI2N...   \n",
       "3  https://play-lh.googleusercontent.com/EGemoI2N...   \n",
       "4  https://play-lh.googleusercontent.com/EGemoI2N...   \n",
       "\n",
       "                                             content  score  thumbsUpCount  \\\n",
       "0  Spotify is the best app for listening to music...      4              7   \n",
       "1  -At random, the app will turn on smart shuffle...      2             22   \n",
       "2  One of the worst monetization design ever, can...      1             87   \n",
       "3  This app is actually has good selection of mus...      2              5   \n",
       "4  I set my alarm to my playlist so i can listen ...      1              7   \n",
       "\n",
       "  reviewCreatedVersion                  at  \\\n",
       "0           8.9.78.513 2024-10-05 17:26:29   \n",
       "1           8.9.70.556 2024-09-05 19:18:13   \n",
       "2           8.9.80.581 2024-10-13 09:05:25   \n",
       "3           8.9.70.556 2024-09-06 22:22:33   \n",
       "4           8.9.84.594 2024-10-21 22:27:58   \n",
       "\n",
       "                                        replyContent           repliedAt  \\\n",
       "0                                               None                 NaT   \n",
       "1                                               None                 NaT   \n",
       "2                                               None                 NaT   \n",
       "3  Hey there! We suggest reaching out to our Cust... 2024-09-07 00:05:02   \n",
       "4                                               None                 NaT   \n",
       "\n",
       "   appVersion  \n",
       "0  8.9.78.513  \n",
       "1  8.9.70.556  \n",
       "2  8.9.80.581  \n",
       "3  8.9.70.556  \n",
       "4  8.9.84.594  "
      ]
     },
     "execution_count": 48,
     "metadata": {},
     "output_type": "execute_result"
    }
   ],
   "source": [
    "df_busu = pd.DataFrame(np.array(result),columns=['review'])\n",
    "\n",
    "df_busu = df_busu.join(pd.DataFrame(df_busu.pop('review').tolist()))\n",
    "\n",
    "df_busu.head()"
   ]
  },
  {
   "cell_type": "code",
   "execution_count": 49,
   "metadata": {
    "colab": {
     "base_uri": "https://localhost:8080/"
    },
    "id": "eCYxGBS-RZem",
    "outputId": "e5de3ffb-25a1-40cf-ca2e-3bf215e47ee8"
   },
   "outputs": [
    {
     "data": {
      "text/plain": [
       "20000"
      ]
     },
     "execution_count": 49,
     "metadata": {},
     "output_type": "execute_result"
    }
   ],
   "source": [
    "len(df_busu.index) #kemudian hitung kembali berapa jumlah data yg didapatkan "
   ]
  },
  {
   "cell_type": "code",
   "execution_count": 50,
   "metadata": {
    "colab": {
     "base_uri": "https://localhost:8080/",
     "height": 206
    },
    "id": "gPaIzFYEWrQw",
    "outputId": "c9d6412b-31f9-4421-f633-77ad7826a31c"
   },
   "outputs": [
    {
     "data": {
      "text/html": [
       "<div>\n",
       "<style scoped>\n",
       "    .dataframe tbody tr th:only-of-type {\n",
       "        vertical-align: middle;\n",
       "    }\n",
       "\n",
       "    .dataframe tbody tr th {\n",
       "        vertical-align: top;\n",
       "    }\n",
       "\n",
       "    .dataframe thead th {\n",
       "        text-align: right;\n",
       "    }\n",
       "</style>\n",
       "<table border=\"1\" class=\"dataframe\">\n",
       "  <thead>\n",
       "    <tr style=\"text-align: right;\">\n",
       "      <th></th>\n",
       "      <th>at</th>\n",
       "      <th>content</th>\n",
       "      <th>score</th>\n",
       "      <th>thumbsUpCount</th>\n",
       "      <th>replyContent</th>\n",
       "    </tr>\n",
       "  </thead>\n",
       "  <tbody>\n",
       "    <tr>\n",
       "      <th>0</th>\n",
       "      <td>2024-10-05 17:26:29</td>\n",
       "      <td>Spotify is the best app for listening to music...</td>\n",
       "      <td>4</td>\n",
       "      <td>7</td>\n",
       "      <td>None</td>\n",
       "    </tr>\n",
       "    <tr>\n",
       "      <th>1</th>\n",
       "      <td>2024-09-05 19:18:13</td>\n",
       "      <td>-At random, the app will turn on smart shuffle...</td>\n",
       "      <td>2</td>\n",
       "      <td>22</td>\n",
       "      <td>None</td>\n",
       "    </tr>\n",
       "    <tr>\n",
       "      <th>2</th>\n",
       "      <td>2024-10-13 09:05:25</td>\n",
       "      <td>One of the worst monetization design ever, can...</td>\n",
       "      <td>1</td>\n",
       "      <td>87</td>\n",
       "      <td>None</td>\n",
       "    </tr>\n",
       "    <tr>\n",
       "      <th>3</th>\n",
       "      <td>2024-09-06 22:22:33</td>\n",
       "      <td>This app is actually has good selection of mus...</td>\n",
       "      <td>2</td>\n",
       "      <td>5</td>\n",
       "      <td>Hey there! We suggest reaching out to our Cust...</td>\n",
       "    </tr>\n",
       "    <tr>\n",
       "      <th>4</th>\n",
       "      <td>2024-10-21 22:27:58</td>\n",
       "      <td>I set my alarm to my playlist so i can listen ...</td>\n",
       "      <td>1</td>\n",
       "      <td>7</td>\n",
       "      <td>None</td>\n",
       "    </tr>\n",
       "  </tbody>\n",
       "</table>\n",
       "</div>"
      ],
      "text/plain": [
       "                   at                                            content  \\\n",
       "0 2024-10-05 17:26:29  Spotify is the best app for listening to music...   \n",
       "1 2024-09-05 19:18:13  -At random, the app will turn on smart shuffle...   \n",
       "2 2024-10-13 09:05:25  One of the worst monetization design ever, can...   \n",
       "3 2024-09-06 22:22:33  This app is actually has good selection of mus...   \n",
       "4 2024-10-21 22:27:58  I set my alarm to my playlist so i can listen ...   \n",
       "\n",
       "   score  thumbsUpCount                                       replyContent  \n",
       "0      4              7                                               None  \n",
       "1      2             22                                               None  \n",
       "2      1             87                                               None  \n",
       "3      2              5  Hey there! We suggest reaching out to our Cust...  \n",
       "4      1              7                                               None  "
      ]
     },
     "execution_count": 50,
     "metadata": {},
     "output_type": "execute_result"
    }
   ],
   "source": [
    "df_busu[['at', 'content', 'score', 'thumbsUpCount', 'replyContent']].head()  #preview userName, rating, date-time, and reviews only"
   ]
  },
  {
   "cell_type": "code",
   "execution_count": 51,
   "metadata": {
    "colab": {
     "base_uri": "https://localhost:8080/",
     "height": 206
    },
    "id": "9j1VDpyNRdie",
    "outputId": "da451d94-c3eb-488f-c4ce-c799690b9070"
   },
   "outputs": [
    {
     "data": {
      "text/html": [
       "<div>\n",
       "<style scoped>\n",
       "    .dataframe tbody tr th:only-of-type {\n",
       "        vertical-align: middle;\n",
       "    }\n",
       "\n",
       "    .dataframe tbody tr th {\n",
       "        vertical-align: top;\n",
       "    }\n",
       "\n",
       "    .dataframe thead th {\n",
       "        text-align: right;\n",
       "    }\n",
       "</style>\n",
       "<table border=\"1\" class=\"dataframe\">\n",
       "  <thead>\n",
       "    <tr style=\"text-align: right;\">\n",
       "      <th></th>\n",
       "      <th>at</th>\n",
       "      <th>content</th>\n",
       "      <th>score</th>\n",
       "      <th>thumbsUpCount</th>\n",
       "    </tr>\n",
       "  </thead>\n",
       "  <tbody>\n",
       "    <tr>\n",
       "      <th>30</th>\n",
       "      <td>2024-11-24 01:48:27</td>\n",
       "      <td>This app used to work well for me. However, la...</td>\n",
       "      <td>2</td>\n",
       "      <td>1</td>\n",
       "    </tr>\n",
       "    <tr>\n",
       "      <th>215</th>\n",
       "      <td>2024-11-24 01:46:02</td>\n",
       "      <td>My favorite music app. Not a bot, but rs been ...</td>\n",
       "      <td>5</td>\n",
       "      <td>0</td>\n",
       "    </tr>\n",
       "    <tr>\n",
       "      <th>3668</th>\n",
       "      <td>2024-11-24 01:44:29</td>\n",
       "      <td>please change the font of the app back to the ...</td>\n",
       "      <td>4</td>\n",
       "      <td>0</td>\n",
       "    </tr>\n",
       "    <tr>\n",
       "      <th>2325</th>\n",
       "      <td>2024-11-24 01:31:41</td>\n",
       "      <td>Can't you move all the music on your liked son...</td>\n",
       "      <td>3</td>\n",
       "      <td>0</td>\n",
       "    </tr>\n",
       "    <tr>\n",
       "      <th>1505</th>\n",
       "      <td>2024-11-24 01:29:54</td>\n",
       "      <td>Love the app. It's pretty intuitive to interac...</td>\n",
       "      <td>5</td>\n",
       "      <td>0</td>\n",
       "    </tr>\n",
       "  </tbody>\n",
       "</table>\n",
       "</div>"
      ],
      "text/plain": [
       "                      at                                            content  \\\n",
       "30   2024-11-24 01:48:27  This app used to work well for me. However, la...   \n",
       "215  2024-11-24 01:46:02  My favorite music app. Not a bot, but rs been ...   \n",
       "3668 2024-11-24 01:44:29  please change the font of the app back to the ...   \n",
       "2325 2024-11-24 01:31:41  Can't you move all the music on your liked son...   \n",
       "1505 2024-11-24 01:29:54  Love the app. It's pretty intuitive to interac...   \n",
       "\n",
       "      score  thumbsUpCount  \n",
       "30        2              1  \n",
       "215       5              0  \n",
       "3668      4              0  \n",
       "2325      3              0  \n",
       "1505      5              0  "
      ]
     },
     "execution_count": 51,
     "metadata": {},
     "output_type": "execute_result"
    }
   ],
   "source": [
    "#Run This Code to Sort the Data By Date \n",
    "\n",
    "new_df = df_busu[['at', 'content', 'score', 'thumbsUpCount']]\n",
    "sorted_df = new_df.sort_values(by='at', ascending=False) #Sort by Newst, change to True if you want to sort by Oldest.\n",
    "sorted_df.head()"
   ]
  },
  {
   "cell_type": "code",
   "execution_count": 52,
   "metadata": {
    "id": "Ip3FsJgdWy4K"
   },
   "outputs": [],
   "source": [
    "my_df = sorted_df[['at', 'content', 'score', 'thumbsUpCount']] #get userName, rating, date-time, and reviews only"
   ]
  },
  {
   "cell_type": "code",
   "execution_count": 53,
   "metadata": {
    "colab": {
     "base_uri": "https://localhost:8080/",
     "height": 206
    },
    "id": "Fxn-ddZFW0s0",
    "outputId": "12ed80e3-b50b-4da8-8dd5-a764267a0fd6"
   },
   "outputs": [
    {
     "data": {
      "text/html": [
       "<div>\n",
       "<style scoped>\n",
       "    .dataframe tbody tr th:only-of-type {\n",
       "        vertical-align: middle;\n",
       "    }\n",
       "\n",
       "    .dataframe tbody tr th {\n",
       "        vertical-align: top;\n",
       "    }\n",
       "\n",
       "    .dataframe thead th {\n",
       "        text-align: right;\n",
       "    }\n",
       "</style>\n",
       "<table border=\"1\" class=\"dataframe\">\n",
       "  <thead>\n",
       "    <tr style=\"text-align: right;\">\n",
       "      <th></th>\n",
       "      <th>at</th>\n",
       "      <th>content</th>\n",
       "      <th>score</th>\n",
       "      <th>thumbsUpCount</th>\n",
       "    </tr>\n",
       "  </thead>\n",
       "  <tbody>\n",
       "    <tr>\n",
       "      <th>30</th>\n",
       "      <td>2024-11-24 01:48:27</td>\n",
       "      <td>This app used to work well for me. However, la...</td>\n",
       "      <td>2</td>\n",
       "      <td>1</td>\n",
       "    </tr>\n",
       "    <tr>\n",
       "      <th>215</th>\n",
       "      <td>2024-11-24 01:46:02</td>\n",
       "      <td>My favorite music app. Not a bot, but rs been ...</td>\n",
       "      <td>5</td>\n",
       "      <td>0</td>\n",
       "    </tr>\n",
       "    <tr>\n",
       "      <th>3668</th>\n",
       "      <td>2024-11-24 01:44:29</td>\n",
       "      <td>please change the font of the app back to the ...</td>\n",
       "      <td>4</td>\n",
       "      <td>0</td>\n",
       "    </tr>\n",
       "    <tr>\n",
       "      <th>2325</th>\n",
       "      <td>2024-11-24 01:31:41</td>\n",
       "      <td>Can't you move all the music on your liked son...</td>\n",
       "      <td>3</td>\n",
       "      <td>0</td>\n",
       "    </tr>\n",
       "    <tr>\n",
       "      <th>1505</th>\n",
       "      <td>2024-11-24 01:29:54</td>\n",
       "      <td>Love the app. It's pretty intuitive to interac...</td>\n",
       "      <td>5</td>\n",
       "      <td>0</td>\n",
       "    </tr>\n",
       "  </tbody>\n",
       "</table>\n",
       "</div>"
      ],
      "text/plain": [
       "                      at                                            content  \\\n",
       "30   2024-11-24 01:48:27  This app used to work well for me. However, la...   \n",
       "215  2024-11-24 01:46:02  My favorite music app. Not a bot, but rs been ...   \n",
       "3668 2024-11-24 01:44:29  please change the font of the app back to the ...   \n",
       "2325 2024-11-24 01:31:41  Can't you move all the music on your liked son...   \n",
       "1505 2024-11-24 01:29:54  Love the app. It's pretty intuitive to interac...   \n",
       "\n",
       "      score  thumbsUpCount  \n",
       "30        2              1  \n",
       "215       5              0  \n",
       "3668      4              0  \n",
       "2325      3              0  \n",
       "1505      5              0  "
      ]
     },
     "execution_count": 53,
     "metadata": {},
     "output_type": "execute_result"
    }
   ],
   "source": [
    "my_df.head()"
   ]
  },
  {
   "cell_type": "code",
   "execution_count": 54,
   "metadata": {
    "id": "-MEKuImSRgYH"
   },
   "outputs": [],
   "source": [
    "new_df.to_csv(\"scrapped_data_spotify.csv\", index = False)  #kemudian save menjadi file csv"
   ]
  }
 ],
 "metadata": {
  "colab": {
   "provenance": []
  },
  "kernelspec": {
   "display_name": "base",
   "language": "python",
   "name": "python3"
  },
  "language_info": {
   "codemirror_mode": {
    "name": "ipython",
    "version": 3
   },
   "file_extension": ".py",
   "mimetype": "text/x-python",
   "name": "python",
   "nbconvert_exporter": "python",
   "pygments_lexer": "ipython3",
   "version": "3.11.4"
  }
 },
 "nbformat": 4,
 "nbformat_minor": 0
}
